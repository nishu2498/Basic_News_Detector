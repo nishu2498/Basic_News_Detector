{
 "cells": [
  {
   "cell_type": "markdown",
   "metadata": {
    "colab_type": "text",
    "id": "CkOreBFFR7g6"
   },
   "source": [
    "Importing basic python libraries\n",
    "\n"
   ]
  },
  {
   "cell_type": "code",
   "execution_count": 1,
   "metadata": {
    "colab": {},
    "colab_type": "code",
    "id": "MdOtBYaL-opp"
   },
   "outputs": [],
   "source": [
    "import numpy as np \n",
    "import pandas as pd\n",
    "import itertools    #to return iterators"
   ]
  },
  {
   "cell_type": "markdown",
   "metadata": {
    "colab_type": "text",
    "id": "gGrezo4scoUm"
   },
   "source": [
    "Importing Dataset and getting basic info about its features"
   ]
  },
  {
   "cell_type": "code",
   "execution_count": 2,
   "metadata": {
    "colab": {
     "base_uri": "https://localhost:8080/",
     "height": 360
    },
    "colab_type": "code",
    "id": "duEQB5eF-6v2",
    "outputId": "5332bf6e-b076-4e59-9584-1421cce655d3"
   },
   "outputs": [
    {
     "name": "stdout",
     "output_type": "stream",
     "text": [
      "row,column (6304, 4)\n"
     ]
    },
    {
     "data": {
      "text/html": [
       "<div>\n",
       "<style scoped>\n",
       "    .dataframe tbody tr th:only-of-type {\n",
       "        vertical-align: middle;\n",
       "    }\n",
       "\n",
       "    .dataframe tbody tr th {\n",
       "        vertical-align: top;\n",
       "    }\n",
       "\n",
       "    .dataframe thead th {\n",
       "        text-align: right;\n",
       "    }\n",
       "</style>\n",
       "<table border=\"1\" class=\"dataframe\">\n",
       "  <thead>\n",
       "    <tr style=\"text-align: right;\">\n",
       "      <th></th>\n",
       "      <th>Unnamed: 0</th>\n",
       "      <th>title</th>\n",
       "      <th>text</th>\n",
       "      <th>label</th>\n",
       "    </tr>\n",
       "  </thead>\n",
       "  <tbody>\n",
       "    <tr>\n",
       "      <td>0</td>\n",
       "      <td>8476</td>\n",
       "      <td>You Can Smell Hillary’s Fear</td>\n",
       "      <td>Daniel Greenfield, a Shillman Journalism Fello...</td>\n",
       "      <td>FAKE</td>\n",
       "    </tr>\n",
       "    <tr>\n",
       "      <td>1</td>\n",
       "      <td>10294</td>\n",
       "      <td>Watch The Exact Moment Paul Ryan Committed Pol...</td>\n",
       "      <td>Google Pinterest Digg Linkedin Reddit Stumbleu...</td>\n",
       "      <td>FAKE</td>\n",
       "    </tr>\n",
       "    <tr>\n",
       "      <td>2</td>\n",
       "      <td>3608</td>\n",
       "      <td>Kerry to go to Paris in gesture of sympathy</td>\n",
       "      <td>U.S. Secretary of State John F. Kerry said Mon...</td>\n",
       "      <td>REAL</td>\n",
       "    </tr>\n",
       "    <tr>\n",
       "      <td>3</td>\n",
       "      <td>10142</td>\n",
       "      <td>Bernie supporters on Twitter erupt in anger ag...</td>\n",
       "      <td>— Kaydee King (@KaydeeKing) November 9, 2016 T...</td>\n",
       "      <td>FAKE</td>\n",
       "    </tr>\n",
       "    <tr>\n",
       "      <td>4</td>\n",
       "      <td>875</td>\n",
       "      <td>The Battle of New York: Why This Primary Matters</td>\n",
       "      <td>It's primary day in New York and front-runners...</td>\n",
       "      <td>REAL</td>\n",
       "    </tr>\n",
       "    <tr>\n",
       "      <td>5</td>\n",
       "      <td>7341</td>\n",
       "      <td>Girl Horrified At What She Watches Boyfriend D...</td>\n",
       "      <td>Share This Baylee Luciani (left), Screenshot o...</td>\n",
       "      <td>FAKE</td>\n",
       "    </tr>\n",
       "    <tr>\n",
       "      <td>6</td>\n",
       "      <td>95</td>\n",
       "      <td>‘Britain’s Schindler’ Dies at 106</td>\n",
       "      <td>A Czech stockbroker who saved more than 650 Je...</td>\n",
       "      <td>REAL</td>\n",
       "    </tr>\n",
       "    <tr>\n",
       "      <td>7</td>\n",
       "      <td>4869</td>\n",
       "      <td>Fact check: Trump and Clinton at the 'commande...</td>\n",
       "      <td>Hillary Clinton and Donald Trump made some ina...</td>\n",
       "      <td>REAL</td>\n",
       "    </tr>\n",
       "    <tr>\n",
       "      <td>8</td>\n",
       "      <td>2909</td>\n",
       "      <td>Iran reportedly makes new push for uranium con...</td>\n",
       "      <td>Iranian negotiators reportedly have made a las...</td>\n",
       "      <td>REAL</td>\n",
       "    </tr>\n",
       "    <tr>\n",
       "      <td>9</td>\n",
       "      <td>1357</td>\n",
       "      <td>With all three Clintons in Iowa, a glimpse at ...</td>\n",
       "      <td>CEDAR RAPIDS, Iowa — “I had one of the most wo...</td>\n",
       "      <td>REAL</td>\n",
       "    </tr>\n",
       "  </tbody>\n",
       "</table>\n",
       "</div>"
      ],
      "text/plain": [
       "   Unnamed: 0                                              title  \\\n",
       "0        8476                       You Can Smell Hillary’s Fear   \n",
       "1       10294  Watch The Exact Moment Paul Ryan Committed Pol...   \n",
       "2        3608        Kerry to go to Paris in gesture of sympathy   \n",
       "3       10142  Bernie supporters on Twitter erupt in anger ag...   \n",
       "4         875   The Battle of New York: Why This Primary Matters   \n",
       "5        7341  Girl Horrified At What She Watches Boyfriend D...   \n",
       "6          95                  ‘Britain’s Schindler’ Dies at 106   \n",
       "7        4869  Fact check: Trump and Clinton at the 'commande...   \n",
       "8        2909  Iran reportedly makes new push for uranium con...   \n",
       "9        1357  With all three Clintons in Iowa, a glimpse at ...   \n",
       "\n",
       "                                                text label  \n",
       "0  Daniel Greenfield, a Shillman Journalism Fello...  FAKE  \n",
       "1  Google Pinterest Digg Linkedin Reddit Stumbleu...  FAKE  \n",
       "2  U.S. Secretary of State John F. Kerry said Mon...  REAL  \n",
       "3  — Kaydee King (@KaydeeKing) November 9, 2016 T...  FAKE  \n",
       "4  It's primary day in New York and front-runners...  REAL  \n",
       "5  Share This Baylee Luciani (left), Screenshot o...  FAKE  \n",
       "6  A Czech stockbroker who saved more than 650 Je...  REAL  \n",
       "7  Hillary Clinton and Donald Trump made some ina...  REAL  \n",
       "8  Iranian negotiators reportedly have made a las...  REAL  \n",
       "9  CEDAR RAPIDS, Iowa — “I had one of the most wo...  REAL  "
      ]
     },
     "execution_count": 2,
     "metadata": {},
     "output_type": "execute_result"
    }
   ],
   "source": [
    "df=pd.read_csv(\"G:/Desktop/cleanednews.csv\")\n",
    "# dataset needs to be cleaned from entries of irregular format manually.\n",
    "print(('row,column'),df.shape)\n",
    "df.head(10)"
   ]
  },
  {
   "cell_type": "code",
   "execution_count": 3,
   "metadata": {
    "colab": {
     "base_uri": "https://localhost:8080/",
     "height": 34
    },
    "colab_type": "code",
    "id": "sftQdOzxCsGt",
    "outputId": "03bf02fe-b0c1-43af-d07f-1dc2950ef249"
   },
   "outputs": [
    {
     "name": "stdout",
     "output_type": "stream",
     "text": [
      "# total no rows in dataset: 6304\n"
     ]
    }
   ],
   "source": [
    "print(\"# total no rows in dataset: \"+str(len(df.index)))"
   ]
  },
  {
   "cell_type": "code",
   "execution_count": 4,
   "metadata": {
    "colab": {
     "base_uri": "https://localhost:8080/",
     "height": 34
    },
    "colab_type": "code",
    "id": "S-5iogouCx46",
    "outputId": "17f1f0ad-3755-458a-efbf-9d79c566ef45"
   },
   "outputs": [
    {
     "name": "stdout",
     "output_type": "stream",
     "text": [
      "Index(['Unnamed: 0', 'title', 'text', 'label'], dtype='object')\n"
     ]
    }
   ],
   "source": [
    "print(df.columns)"
   ]
  },
  {
   "cell_type": "code",
   "execution_count": 5,
   "metadata": {
    "colab": {
     "base_uri": "https://localhost:8080/",
     "height": 202
    },
    "colab_type": "code",
    "id": "JDScXEWBC27q",
    "outputId": "5a8d2aeb-bf1e-4e9f-bd63-ca70f64c3f42"
   },
   "outputs": [
    {
     "data": {
      "text/plain": [
       "0    FAKE\n",
       "1    FAKE\n",
       "2    REAL\n",
       "3    FAKE\n",
       "4    REAL\n",
       "5    FAKE\n",
       "6    REAL\n",
       "7    REAL\n",
       "8    REAL\n",
       "9    REAL\n",
       "Name: label, dtype: object"
      ]
     },
     "execution_count": 5,
     "metadata": {},
     "output_type": "execute_result"
    }
   ],
   "source": [
    "labels=df.label\n",
    "labels.head(10)"
   ]
  },
  {
   "cell_type": "markdown",
   "metadata": {
    "colab_type": "text",
    "id": "BzszNM-QSQVn"
   },
   "source": [
    "Data Cleaning (removing nan values using Seaborn library heatmap and drop function if necessary)"
   ]
  },
  {
   "cell_type": "code",
   "execution_count": 16,
   "metadata": {
    "colab": {
     "base_uri": "https://localhost:8080/",
     "height": 302
    },
    "colab_type": "code",
    "id": "zrgzyfnDD7bd",
    "outputId": "14aba1b0-69e5-48c2-9bb4-29710449a49a"
   },
   "outputs": [
    {
     "name": "stdout",
     "output_type": "stream",
     "text": [
      "Data visualization of NAN values of data set using Seaborn library Heatmap\n"
     ]
    },
    {
     "data": {
      "text/plain": [
       "<matplotlib.axes._subplots.AxesSubplot at 0x23d9e3dd388>"
      ]
     },
     "execution_count": 16,
     "metadata": {},
     "output_type": "execute_result"
    },
    {
     "data": {
      "image/png": "[encoded data removed]",
      "text/plain": [
       "<Figure size 432x288 with 2 Axes>"
      ]
     },
     "metadata": {
      "needs_background": "light"
     },
     "output_type": "display_data"
    }
   ],
   "source": [
    "import seaborn as sns\n",
    "print(\"Data visualization of NAN values of data set using Seaborn library Heatmap\")\n",
    "sns.heatmap(df.isnull(),yticklabels=False,cmap=\"YlGnBu\")"
   ]
  },
  {
   "cell_type": "code",
   "execution_count": 7,
   "metadata": {
    "colab": {},
    "colab_type": "code",
    "id": "wLhlw7N9EMPd"
   },
   "outputs": [],
   "source": [
    "df.dropna(inplace=True)"
   ]
  },
  {
   "cell_type": "code",
   "execution_count": 8,
   "metadata": {
    "colab": {
     "base_uri": "https://localhost:8080/",
     "height": 302
    },
    "colab_type": "code",
    "id": "5GokBGtuEetO",
    "outputId": "408ca9f3-d22c-47c4-b3ee-2fae55f6c96b"
   },
   "outputs": [
    {
     "name": "stdout",
     "output_type": "stream",
     "text": [
      "Data visualization of NAN values of data set using Seaborn library Heatmap after dropping na values\n",
      "row,column (6304, 4)\n"
     ]
    },
    {
     "data": {
      "image/png": "[encoded data removed]",
      "text/plain": [
       "<Figure size 432x288 with 2 Axes>"
      ]
     },
     "metadata": {
      "needs_background": "light"
     },
     "output_type": "display_data"
    }
   ],
   "source": [
    "print(\"Data visualization of NAN values of data set using Seaborn library Heatmap after dropping na values\")\n",
    "sns.heatmap(df.isnull(),yticklabels=False,cmap=\"viridis\")\n",
    "print(('row,column'),df.shape)"
   ]
  },
  {
   "cell_type": "markdown",
   "metadata": {
    "colab_type": "text",
    "id": "TDsEKRUPS3oV"
   },
   "source": [
    "Converting Unnamed index into a feature"
   ]
  },
  {
   "cell_type": "code",
   "execution_count": 9,
   "metadata": {
    "colab": {
     "base_uri": "https://localhost:8080/",
     "height": 286
    },
    "colab_type": "code",
    "id": "f7qVJC6CJJwX",
    "outputId": "ad913dd3-1134-447f-bc41-7ab952647c51"
   },
   "outputs": [
    {
     "data": {
      "text/plain": [
       "<matplotlib.axes._subplots.AxesSubplot at 0x23d9d536f88>"
      ]
     },
     "execution_count": 9,
     "metadata": {},
     "output_type": "execute_result"
    },
    {
     "data": {
      "image/png": "[encoded data removed]",
      "text/plain": [
       "<Figure size 432x288 with 2 Axes>"
      ]
     },
     "metadata": {
      "needs_background": "light"
     },
     "output_type": "display_data"
    }
   ],
   "source": [
    "# Set index \n",
    "df = df.set_index(\"Unnamed: 0\")\n",
    "\n",
    "# Print first lines of `df` \n",
    "df.head()\n",
    "\n",
    "y = df.label \n",
    "\n",
    "# Drop the `label` column\n",
    "df.drop(\"label\", axis=1)\n",
    "\n",
    "sns.heatmap(df.isnull(),yticklabels=False,cmap=\"Accent\")\n",
    "#df.head(10)\n"
   ]
  },
  {
   "cell_type": "markdown",
   "metadata": {
    "colab_type": "text",
    "id": "ASP2g_ooTKUj"
   },
   "source": [
    "Importing Machine learning libraries"
   ]
  },
  {
   "cell_type": "code",
   "execution_count": 10,
   "metadata": {
    "colab": {},
    "colab_type": "code",
    "id": "3SZZmjCRDCN3"
   },
   "outputs": [],
   "source": [
    "import sklearn.metrics as metrics\n",
    "from sklearn.model_selection import train_test_split\n",
    "from sklearn.feature_extraction.text import TfidfVectorizer  #import the vectorizer\n",
    "from sklearn.linear_model import PassiveAggressiveClassifier \n",
    "from sklearn.metrics import accuracy_score, confusion_matrix  #for finding the accuracy and the confusion matrix"
   ]
  },
  {
   "cell_type": "markdown",
   "metadata": {
    "colab_type": "text",
    "id": "U0BAHCA8TTUo"
   },
   "source": [
    "Train - Test Split"
   ]
  },
  {
   "cell_type": "code",
   "execution_count": 11,
   "metadata": {
    "colab": {},
    "colab_type": "code",
    "id": "pQhZHYZXDGsa"
   },
   "outputs": [],
   "source": [
    "X_train, X_test, y_train, y_test = train_test_split(df['text'], y, test_size=0.2, random_state=7)"
   ]
  },
  {
   "cell_type": "markdown",
   "metadata": {
    "colab_type": "text",
    "id": "Lt0uXWobTZtJ"
   },
   "source": [
    "Build TFID_Vectorizer to transform train-test dataset to vectors"
   ]
  },
  {
   "cell_type": "code",
   "execution_count": 12,
   "metadata": {
    "colab": {},
    "colab_type": "code",
    "id": "MGEduMtVDTeo"
   },
   "outputs": [],
   "source": [
    "t_vec=TfidfVectorizer(stop_words='english', max_df=0.7)\n",
    "t_train=t_vec.fit_transform(X_train) \n",
    "t_test=t_vec.transform(X_test)"
   ]
  },
  {
   "cell_type": "markdown",
   "metadata": {
    "colab_type": "text",
    "id": "Gm4GWQwVYlc3"
   },
   "source": [
    "Building PassiveAggresive Classifier and predicting accuracy at max iteration value"
   ]
  },
  {
   "cell_type": "code",
   "execution_count": 13,
   "metadata": {
    "colab": {
     "base_uri": "https://localhost:8080/",
     "height": 1000
    },
    "colab_type": "code",
    "id": "q5S1OZqZREFN",
    "outputId": "5a3131b9-98e6-428f-f58b-e3054b4708b1"
   },
   "outputs": [
    {
     "name": "stdout",
     "output_type": "stream",
     "text": [
      "Accuracy: 93.34%\n",
      "Accuracy: 93.1%\n",
      "Accuracy: 93.26%\n",
      "Accuracy: 92.94%\n",
      "Accuracy: 93.34%\n",
      "Accuracy: 93.74%\n",
      "Accuracy: 93.58%\n",
      "Accuracy: 92.7%\n",
      "Accuracy: 93.26%\n",
      "Accuracy: 93.5%\n",
      "Accuracy: 93.02%\n",
      "Accuracy: 93.1%\n",
      "Accuracy: 92.94%\n",
      "Accuracy: 93.58%\n",
      "Accuracy: 93.34%\n",
      "Accuracy: 93.58%\n",
      "Accuracy: 93.5%\n",
      "Accuracy: 93.1%\n",
      "Accuracy: 93.58%\n",
      "Accuracy: 93.26%\n",
      "Accuracy: 93.26%\n",
      "Accuracy: 93.26%\n",
      "Accuracy: 93.1%\n",
      "Accuracy: 92.86%\n",
      "Accuracy: 92.86%\n",
      "Accuracy: 93.66%\n",
      "Accuracy: 93.34%\n",
      "Accuracy: 92.94%\n",
      "Accuracy: 93.18%\n",
      "Accuracy: 93.02%\n",
      "Accuracy: 93.34%\n",
      "Accuracy: 92.78%\n",
      "Accuracy: 93.18%\n",
      "Accuracy: 93.02%\n",
      "Accuracy: 93.34%\n",
      "Accuracy: 93.5%\n",
      "Accuracy: 93.02%\n",
      "Accuracy: 93.58%\n",
      "Accuracy: 93.26%\n",
      "Accuracy: 93.18%\n",
      "Accuracy: 93.26%\n",
      "Accuracy: 93.34%\n",
      "Accuracy: 92.94%\n",
      "Accuracy: 93.5%\n",
      "Accuracy: 93.42%\n",
      "Accuracy: 93.18%\n",
      "Accuracy: 93.5%\n",
      "Accuracy: 93.5%\n",
      "Accuracy: 93.02%\n",
      "Accuracy: 93.42%\n",
      "Accuracy: 93.02%\n",
      "Accuracy: 93.02%\n",
      "Accuracy: 93.18%\n",
      "Accuracy: 92.78%\n",
      "Accuracy: 93.02%\n",
      "Accuracy: 93.34%\n",
      "Accuracy: 93.02%\n",
      "Accuracy: 93.26%\n",
      "Accuracy: 92.94%\n",
      "Accuracy: 93.02%\n",
      "Accuracy: 93.1%\n",
      "Accuracy: 92.78%\n",
      "Accuracy: 93.42%\n",
      "Accuracy: 92.55%\n",
      "Accuracy: 92.78%\n",
      "Accuracy: 93.26%\n",
      "Accuracy: 93.02%\n",
      "Accuracy: 93.58%\n",
      "Accuracy: 93.02%\n",
      "Accuracy: 93.18%\n",
      "Accuracy: 93.26%\n",
      "Accuracy: 93.34%\n",
      "Accuracy: 93.5%\n",
      "Accuracy: 93.42%\n",
      "Accuracy: 93.02%\n",
      "Accuracy: 93.5%\n",
      "Accuracy: 93.18%\n",
      "Accuracy: 92.78%\n",
      "Accuracy: 93.26%\n",
      "Accuracy: 93.42%\n",
      "Accuracy: 92.94%\n",
      "Accuracy: 93.5%\n",
      "Accuracy: 93.34%\n",
      "Accuracy: 93.18%\n",
      "Accuracy: 93.02%\n",
      "Accuracy: 93.18%\n",
      "Accuracy: 93.18%\n",
      "Accuracy: 92.78%\n",
      "Accuracy: 92.94%\n",
      "Accuracy: 93.5%\n",
      "Accuracy: 93.74%\n",
      "Accuracy: 93.34%\n",
      "Accuracy: 93.18%\n",
      "Accuracy: 93.02%\n",
      "Accuracy: 93.42%\n",
      "Accuracy: 93.97%\n",
      "Accuracy: 93.18%\n",
      "Accuracy: 93.5%\n",
      "Accuracy: 93.02%\n",
      "Accuracy: 93.42%\n",
      "  \n",
      "The highest value of accuracy is at max-iter of value  96\n",
      "ACCURACY IS 94.0 %"
     ]
    }
   ],
   "source": [
    "score=[0]*101\n",
    "for max_iter in range (1,101):\n",
    " pac=PassiveAggressiveClassifier(max_iter)\n",
    " pac.fit(t_train,y_train)\n",
    " \n",
    " y_pred=pac.predict(t_test)\n",
    " score[max_iter]=accuracy_score(y_test,y_pred)\n",
    " \n",
    " print(f'Accuracy: {round(score[max_iter]*100,2)}%')\n",
    "\n",
    "print(\"  \")\n",
    "print(\"The highest value of accuracy is at max-iter of value \" ,end=\" \")\n",
    "print(score.index(max(score))) #print the value of iter where value is max\n",
    "print('ACCURACY IS ',end=\"\")\n",
    "print(round(max(score)*100),end=\" %\")#"
   ]
  },
  {
   "cell_type": "markdown",
   "metadata": {
    "colab_type": "text",
    "id": "zvT07jhSbQXZ"
   },
   "source": [
    "Confusion matrix for predictions"
   ]
  },
  {
   "cell_type": "code",
   "execution_count": 14,
   "metadata": {
    "colab": {
     "base_uri": "https://localhost:8080/",
     "height": 50
    },
    "colab_type": "code",
    "id": "TAXjCI0gRM-i",
    "outputId": "8853b25a-17cb-4e83-80af-4bc66d3ccdca"
   },
   "outputs": [
    {
     "data": {
      "text/plain": [
       "array([[585,  42],\n",
       "       [ 41, 593]], dtype=int64)"
      ]
     },
     "execution_count": 14,
     "metadata": {},
     "output_type": "execute_result"
    }
   ],
   "source": [
    "m=confusion_matrix(y_test,y_pred, labels=['FAKE','REAL'])\n",
    "m"
   ]
  },
  {
   "cell_type": "markdown",
   "metadata": {
    "colab_type": "text",
    "id": "Wn2QyOzbbboY"
   },
   "source": [
    "Confusion matrix visualization using matlab and seaborn libraries"
   ]
  },
  {
   "cell_type": "code",
   "execution_count": 19,
   "metadata": {
    "colab": {
     "base_uri": "https://localhost:8080/",
     "height": 329
    },
    "colab_type": "code",
    "id": "BxeMHvmURVLs",
    "outputId": "86264eeb-dd4f-493d-86ee-0b9f9b16fde6"
   },
   "outputs": [
    {
     "name": "stdout",
     "output_type": "stream",
     "text": [
      " \n"
     ]
    },
    {
     "data": {
      "image/png": "[encoded data removed]",
      "text/plain": [
       "<Figure size 432x288 with 2 Axes>"
      ]
     },
     "metadata": {
      "needs_background": "light"
     },
     "output_type": "display_data"
    },
    {
     "data": {
      "text/plain": [
       "<Figure size 1080x1080 with 0 Axes>"
      ]
     },
     "metadata": {},
     "output_type": "display_data"
    }
   ],
   "source": [
    "import seaborn as sns\n",
    "import matplotlib.pyplot as plt\n",
    "\n",
    "ax=plt.subplot()\n",
    "\n",
    "sns.heatmap(m ,annot=True,ax = ax,fmt='g',cmap='Blues') \n",
    " #cmap = blue will set the color \n",
    " #fmt is used to pass value as string\n",
    "plt.figure(figsize=(15,15))  #size of figure\n",
    "\n",
    "ax.set_xlabel('Predicted labels')\n",
    "ax.set_ylabel('True labels')\n",
    "ax.xaxis.set_ticklabels(['FAKE', 'REAL'])\n",
    "ax.yaxis.set_ticklabels(['FAKE', 'REAL'])\n",
    "\n",
    "ax.set_title('Confusion Matrix of the classifier') #title \n",
    "print(\" \")"
   ]
  },
  {
   "cell_type": "code",
   "execution_count": null,
   "metadata": {},
   "outputs": [],
   "source": []
  }
 ],
 "metadata": {
  "colab": {
   "collapsed_sections": [],
   "name": "News_Detector.ipynb",
   "provenance": []
  },
  "kernelspec": {
   "display_name": "Python 3",
   "language": "python",
   "name": "python3"
  },
  "language_info": {
   "codemirror_mode": {
    "name": "ipython",
    "version": 3
   },
   "file_extension": ".py",
   "mimetype": "text/x-python",
   "name": "python",
   "nbconvert_exporter": "python",
   "pygments_lexer": "ipython3",
   "version": "3.7.4"
  }
 },
 "nbformat": 4,
 "nbformat_minor": 1
}
