{
  "nbformat": 4,
  "nbformat_minor": 0,
  "metadata": {
    "colab": {
      "name": "News_Detector.ipynb",
      "provenance": [],
      "collapsed_sections": [],
      "authorship_tag": "ABX9TyMG5XYxTH8qYSP20zwXTWYB",
      "include_colab_link": true
    },
    "kernelspec": {
      "name": "python3",
      "display_name": "Python 3"
    }
  },
  "cells": [
    {
      "cell_type": "markdown",
      "metadata": {
        "id": "view-in-github",
        "colab_type": "text"
      },
      "source": [
        "<a href=\"https://colab.research.google.com/github/nishu2498/Basic_News_Detector/blob/master/News_Detector.ipynb\" target=\"_parent\"><img src=\"https://colab.research.google.com/assets/colab-badge.svg\" alt=\"Open In Colab\"/></a>"
      ]
    },
    {
      "cell_type": "markdown",
      "metadata": {
        "id": "CkOreBFFR7g6",
        "colab_type": "text"
      },
      "source": [
        "Importing basic python libraries\n",
        "\n"
      ]
    },
    {
      "cell_type": "code",
      "metadata": {
        "id": "MdOtBYaL-opp",
        "colab_type": "code",
        "colab": {}
      },
      "source": [
        "import numpy as np \n",
        "import pandas as pd\n",
        "import itertools    #to return iterators"
      ],
      "execution_count": 0,
      "outputs": []
    },
    {
      "cell_type": "markdown",
      "metadata": {
        "id": "gGrezo4scoUm",
        "colab_type": "text"
      },
      "source": [
        "Importing Dataset and getting basic info about its features"
      ]
    },
    {
      "cell_type": "code",
      "metadata": {
        "id": "duEQB5eF-6v2",
        "colab_type": "code",
        "outputId": "5332bf6e-b076-4e59-9584-1421cce655d3",
        "colab": {
          "base_uri": "https://localhost:8080/",
          "height": 360
        }
      },
      "source": [
        "df=pd.read_csv(\"/content/cleanednews.csv\")\n",
        "# dataset needs to be cleaned from entries of irregular format manually.\n",
        "print(('row,column'),df.shape)\n",
        "df.head(10)"
      ],
      "execution_count": 0,
      "outputs": [
        {
          "output_type": "stream",
          "text": [
            "row,column (6304, 4)\n"
          ],
          "name": "stdout"
        },
        {
          "output_type": "execute_result",
          "data": {
            "text/html": [
              "<div>\n",
              "<style scoped>\n",
              "    .dataframe tbody tr th:only-of-type {\n",
              "        vertical-align: middle;\n",
              "    }\n",
              "\n",
              "    .dataframe tbody tr th {\n",
              "        vertical-align: top;\n",
              "    }\n",
              "\n",
              "    .dataframe thead th {\n",
              "        text-align: right;\n",
              "    }\n",
              "</style>\n",
              "<table border=\"1\" class=\"dataframe\">\n",
              "  <thead>\n",
              "    <tr style=\"text-align: right;\">\n",
              "      <th></th>\n",
              "      <th>Unnamed: 0</th>\n",
              "      <th>title</th>\n",
              "      <th>text</th>\n",
              "      <th>label</th>\n",
              "    </tr>\n",
              "  </thead>\n",
              "  <tbody>\n",
              "    <tr>\n",
              "      <th>0</th>\n",
              "      <td>8476</td>\n",
              "      <td>You Can Smell Hillary’s Fear</td>\n",
              "      <td>Daniel Greenfield, a Shillman Journalism Fello...</td>\n",
              "      <td>FAKE</td>\n",
              "    </tr>\n",
              "    <tr>\n",
              "      <th>1</th>\n",
              "      <td>10294</td>\n",
              "      <td>Watch The Exact Moment Paul Ryan Committed Pol...</td>\n",
              "      <td>Google Pinterest Digg Linkedin Reddit Stumbleu...</td>\n",
              "      <td>FAKE</td>\n",
              "    </tr>\n",
              "    <tr>\n",
              "      <th>2</th>\n",
              "      <td>3608</td>\n",
              "      <td>Kerry to go to Paris in gesture of sympathy</td>\n",
              "      <td>U.S. Secretary of State John F. Kerry said Mon...</td>\n",
              "      <td>REAL</td>\n",
              "    </tr>\n",
              "    <tr>\n",
              "      <th>3</th>\n",
              "      <td>10142</td>\n",
              "      <td>Bernie supporters on Twitter erupt in anger ag...</td>\n",
              "      <td>— Kaydee King (@KaydeeKing) November 9, 2016 T...</td>\n",
              "      <td>FAKE</td>\n",
              "    </tr>\n",
              "    <tr>\n",
              "      <th>4</th>\n",
              "      <td>875</td>\n",
              "      <td>The Battle of New York: Why This Primary Matters</td>\n",
              "      <td>It's primary day in New York and front-runners...</td>\n",
              "      <td>REAL</td>\n",
              "    </tr>\n",
              "    <tr>\n",
              "      <th>5</th>\n",
              "      <td>7341</td>\n",
              "      <td>Girl Horrified At What She Watches Boyfriend D...</td>\n",
              "      <td>Share This Baylee Luciani (left), Screenshot o...</td>\n",
              "      <td>FAKE</td>\n",
              "    </tr>\n",
              "    <tr>\n",
              "      <th>6</th>\n",
              "      <td>95</td>\n",
              "      <td>‘Britain’s Schindler’ Dies at 106</td>\n",
              "      <td>A Czech stockbroker who saved more than 650 Je...</td>\n",
              "      <td>REAL</td>\n",
              "    </tr>\n",
              "    <tr>\n",
              "      <th>7</th>\n",
              "      <td>4869</td>\n",
              "      <td>Fact check: Trump and Clinton at the 'commande...</td>\n",
              "      <td>Hillary Clinton and Donald Trump made some ina...</td>\n",
              "      <td>REAL</td>\n",
              "    </tr>\n",
              "    <tr>\n",
              "      <th>8</th>\n",
              "      <td>2909</td>\n",
              "      <td>Iran reportedly makes new push for uranium con...</td>\n",
              "      <td>Iranian negotiators reportedly have made a las...</td>\n",
              "      <td>REAL</td>\n",
              "    </tr>\n",
              "    <tr>\n",
              "      <th>9</th>\n",
              "      <td>1357</td>\n",
              "      <td>With all three Clintons in Iowa, a glimpse at ...</td>\n",
              "      <td>CEDAR RAPIDS, Iowa — “I had one of the most wo...</td>\n",
              "      <td>REAL</td>\n",
              "    </tr>\n",
              "  </tbody>\n",
              "</table>\n",
              "</div>"
            ],
            "text/plain": [
              "   Unnamed: 0  ... label\n",
              "0        8476  ...  FAKE\n",
              "1       10294  ...  FAKE\n",
              "2        3608  ...  REAL\n",
              "3       10142  ...  FAKE\n",
              "4         875  ...  REAL\n",
              "5        7341  ...  FAKE\n",
              "6          95  ...  REAL\n",
              "7        4869  ...  REAL\n",
              "8        2909  ...  REAL\n",
              "9        1357  ...  REAL\n",
              "\n",
              "[10 rows x 4 columns]"
            ]
          },
          "metadata": {
            "tags": []
          },
          "execution_count": 116
        }
      ]
    },
    {
      "cell_type": "code",
      "metadata": {
        "id": "sftQdOzxCsGt",
        "colab_type": "code",
        "outputId": "03bf02fe-b0c1-43af-d07f-1dc2950ef249",
        "colab": {
          "base_uri": "https://localhost:8080/",
          "height": 34
        }
      },
      "source": [
        "print(\"# total no rows in dataset: \"+str(len(df.index)))"
      ],
      "execution_count": 0,
      "outputs": [
        {
          "output_type": "stream",
          "text": [
            "# total no rows in dataset: 6304\n"
          ],
          "name": "stdout"
        }
      ]
    },
    {
      "cell_type": "code",
      "metadata": {
        "id": "S-5iogouCx46",
        "colab_type": "code",
        "outputId": "17f1f0ad-3755-458a-efbf-9d79c566ef45",
        "colab": {
          "base_uri": "https://localhost:8080/",
          "height": 34
        }
      },
      "source": [
        "print(df.columns)"
      ],
      "execution_count": 0,
      "outputs": [
        {
          "output_type": "stream",
          "text": [
            "Index(['Unnamed: 0', 'title', 'text', 'label'], dtype='object')\n"
          ],
          "name": "stdout"
        }
      ]
    },
    {
      "cell_type": "code",
      "metadata": {
        "id": "JDScXEWBC27q",
        "colab_type": "code",
        "outputId": "5a8d2aeb-bf1e-4e9f-bd63-ca70f64c3f42",
        "colab": {
          "base_uri": "https://localhost:8080/",
          "height": 202
        }
      },
      "source": [
        "labels=df.label\n",
        "labels.head(10)"
      ],
      "execution_count": 0,
      "outputs": [
        {
          "output_type": "execute_result",
          "data": {
            "text/plain": [
              "0    FAKE\n",
              "1    FAKE\n",
              "2    REAL\n",
              "3    FAKE\n",
              "4    REAL\n",
              "5    FAKE\n",
              "6    REAL\n",
              "7    REAL\n",
              "8    REAL\n",
              "9    REAL\n",
              "Name: label, dtype: object"
            ]
          },
          "metadata": {
            "tags": []
          },
          "execution_count": 119
        }
      ]
    },
    {
      "cell_type": "markdown",
      "metadata": {
        "id": "BzszNM-QSQVn",
        "colab_type": "text"
      },
      "source": [
        "Data Cleaning (removing nan values using Seaborn library heatmap and drop function if necessary)"
      ]
    },
    {
      "cell_type": "code",
      "metadata": {
        "id": "zrgzyfnDD7bd",
        "colab_type": "code",
        "outputId": "14aba1b0-69e5-48c2-9bb4-29710449a49a",
        "colab": {
          "base_uri": "https://localhost:8080/",
          "height": 302
        }
      },
      "source": [
        "import seaborn as sns\n",
        "print(\"Data visualization of NAN values of data set using Seaborn library Heatmap\")\n",
        "sns.heatmap(df.isnull(),yticklabels=False,cmap=\"YlGnBu\")"
      ],
      "execution_count": 0,
      "outputs": [
        {
          "output_type": "stream",
          "text": [
            "Data visualization of NAN values of data set using Seaborn library Heatmap\n"
          ],
          "name": "stdout"
        },
        {
          "output_type": "execute_result",
          "data": {
            "text/plain": [
              "<matplotlib.axes._subplots.AxesSubplot at 0x7f5047c0fa58>"
            ]
          },
          "metadata": {
            "tags": []
          },
          "execution_count": 120
        },
        {
          "output_type": "display_data",
          "data": {
            "image/png": "[encoded data removed]",
            "text/plain": [
              "<Figure size 432x288 with 2 Axes>"
            ]
          },
          "metadata": {
            "tags": [],
            "needs_background": "light"
          }
        }
      ]
    },
    {
      "cell_type": "code",
      "metadata": {
        "id": "wLhlw7N9EMPd",
        "colab_type": "code",
        "colab": {}
      },
      "source": [
        "df.dropna(inplace=True)"
      ],
      "execution_count": 0,
      "outputs": []
    },
    {
      "cell_type": "code",
      "metadata": {
        "id": "5GokBGtuEetO",
        "colab_type": "code",
        "outputId": "408ca9f3-d22c-47c4-b3ee-2fae55f6c96b",
        "colab": {
          "base_uri": "https://localhost:8080/",
          "height": 302
        }
      },
      "source": [
        "print(\"Data visualization of NAN values of data set using Seaborn library Heatmap after dropping na values\")\n",
        "sns.heatmap(df.isnull(),yticklabels=False,cmap=\"viridis\")\n",
        "print(('row,column'),df.shape)"
      ],
      "execution_count": 0,
      "outputs": [
        {
          "output_type": "stream",
          "text": [
            "Data visualization of NAN values of data set using Seaborn library Heatmap after dropping na values\n",
            "row,column (6304, 4)\n"
          ],
          "name": "stdout"
        },
        {
          "output_type": "display_data",
          "data": {
            "image/png": "[encoded data removed]",
            "text/plain": [
              "<Figure size 432x288 with 2 Axes>"
            ]
          },
          "metadata": {
            "tags": [],
            "needs_background": "light"
          }
        }
      ]
    },
    {
      "cell_type": "markdown",
      "metadata": {
        "id": "TDsEKRUPS3oV",
        "colab_type": "text"
      },
      "source": [
        "Converting Unnamed index into a feature"
      ]
    },
    {
      "cell_type": "code",
      "metadata": {
        "id": "f7qVJC6CJJwX",
        "colab_type": "code",
        "outputId": "ad913dd3-1134-447f-bc41-7ab952647c51",
        "colab": {
          "base_uri": "https://localhost:8080/",
          "height": 286
        }
      },
      "source": [
        "# Set index \n",
        "df = df.set_index(\"Unnamed: 0\")\n",
        "\n",
        "# Print first lines of `df` \n",
        "df.head()\n",
        "\n",
        "y = df.label \n",
        "\n",
        "# Drop the `label` column\n",
        "df.drop(\"label\", axis=1)\n",
        "\n",
        "sns.heatmap(df.isnull(),yticklabels=False,cmap=\"Accent\")\n",
        "#df.head(10)\n"
      ],
      "execution_count": 0,
      "outputs": [
        {
          "output_type": "execute_result",
          "data": {
            "text/plain": [
              "<matplotlib.axes._subplots.AxesSubplot at 0x7f5048168eb8>"
            ]
          },
          "metadata": {
            "tags": []
          },
          "execution_count": 123
        },
        {
          "output_type": "display_data",
          "data": {
            "image/png": "[encoded data removed]",
            "text/plain": [
              "<Figure size 432x288 with 2 Axes>"
            ]
          },
          "metadata": {
            "tags": [],
            "needs_background": "light"
          }
        }
      ]
    },
    {
      "cell_type": "markdown",
      "metadata": {
        "id": "ASP2g_ooTKUj",
        "colab_type": "text"
      },
      "source": [
        "Importing Machine learning libraries"
      ]
    },
    {
      "cell_type": "code",
      "metadata": {
        "id": "3SZZmjCRDCN3",
        "colab_type": "code",
        "colab": {}
      },
      "source": [
        "import sklearn.metrics as metrics\n",
        "from sklearn.model_selection import train_test_split\n",
        "from sklearn.feature_extraction.text import TfidfVectorizer  #import the vectorizer\n",
        "from sklearn.linear_model import PassiveAggressiveClassifier \n",
        "from sklearn.metrics import accuracy_score, confusion_matrix  #for finding the accuracy and the confusion matrix"
      ],
      "execution_count": 0,
      "outputs": []
    },
    {
      "cell_type": "markdown",
      "metadata": {
        "id": "U0BAHCA8TTUo",
        "colab_type": "text"
      },
      "source": [
        "Train - Test Split"
      ]
    },
    {
      "cell_type": "code",
      "metadata": {
        "id": "pQhZHYZXDGsa",
        "colab_type": "code",
        "colab": {}
      },
      "source": [
        "X_train, X_test, y_train, y_test = train_test_split(df['text'], y, test_size=0.2, random_state=7)"
      ],
      "execution_count": 0,
      "outputs": []
    },
    {
      "cell_type": "markdown",
      "metadata": {
        "id": "Lt0uXWobTZtJ",
        "colab_type": "text"
      },
      "source": [
        "Build TFID_Vectorizer to transform train-test dataset to vectors"
      ]
    },
    {
      "cell_type": "code",
      "metadata": {
        "id": "MGEduMtVDTeo",
        "colab_type": "code",
        "colab": {}
      },
      "source": [
        "t_vec=TfidfVectorizer(stop_words='english', max_df=0.7)\n",
        "t_train=t_vec.fit_transform(X_train) \n",
        "t_test=t_vec.transform(X_test)"
      ],
      "execution_count": 0,
      "outputs": []
    },
    {
      "cell_type": "markdown",
      "metadata": {
        "id": "Gm4GWQwVYlc3",
        "colab_type": "text"
      },
      "source": [
        "Building PassiveAggresive Classifier and predicting accuracy at max iteration value"
      ]
    },
    {
      "cell_type": "code",
      "metadata": {
        "id": "q5S1OZqZREFN",
        "colab_type": "code",
        "outputId": "5a3131b9-98e6-428f-f58b-e3054b4708b1",
        "colab": {
          "base_uri": "https://localhost:8080/",
          "height": 1000
        }
      },
      "source": [
        "score=[0]*101\n",
        "for max_iter in range (1,101):\n",
        " pac=PassiveAggressiveClassifier(max_iter)\n",
        " pac.fit(t_train,y_train)\n",
        " \n",
        " y_pred=pac.predict(t_test)\n",
        " score[max_iter]=accuracy_score(y_test,y_pred)\n",
        " \n",
        " print(f'Accuracy: {round(score[max_iter]*100,2)}%')\n",
        "\n",
        "print(\"  \")\n",
        "print(\"The highest value of accuracy is at max-iter of value \" ,end=\" \")\n",
        "print(score.index(max(score))) #print the value of iter where value is max\n",
        "print('ACCURACY IS ',end=\"\")\n",
        "print(round(max(score)*100),end=\" %\")#"
      ],
      "execution_count": 0,
      "outputs": [
        {
          "output_type": "stream",
          "text": [
            "Accuracy: 93.02%\n",
            "Accuracy: 93.02%\n",
            "Accuracy: 93.18%\n",
            "Accuracy: 93.5%\n",
            "Accuracy: 93.34%\n",
            "Accuracy: 93.1%\n",
            "Accuracy: 93.02%\n",
            "Accuracy: 92.62%\n",
            "Accuracy: 92.7%\n",
            "Accuracy: 92.94%\n",
            "Accuracy: 93.34%\n",
            "Accuracy: 93.02%\n",
            "Accuracy: 93.42%\n",
            "Accuracy: 92.94%\n",
            "Accuracy: 93.18%\n",
            "Accuracy: 93.18%\n",
            "Accuracy: 92.47%\n",
            "Accuracy: 92.62%\n",
            "Accuracy: 93.26%\n",
            "Accuracy: 93.26%\n",
            "Accuracy: 93.34%\n",
            "Accuracy: 92.86%\n",
            "Accuracy: 93.42%\n",
            "Accuracy: 92.86%\n",
            "Accuracy: 93.26%\n",
            "Accuracy: 93.34%\n",
            "Accuracy: 93.42%\n",
            "Accuracy: 92.94%\n",
            "Accuracy: 92.78%\n",
            "Accuracy: 93.81%\n",
            "Accuracy: 93.5%\n",
            "Accuracy: 93.34%\n",
            "Accuracy: 93.74%\n",
            "Accuracy: 93.34%\n",
            "Accuracy: 93.5%\n",
            "Accuracy: 93.34%\n",
            "Accuracy: 92.86%\n",
            "Accuracy: 92.94%\n",
            "Accuracy: 93.1%\n",
            "Accuracy: 93.18%\n",
            "Accuracy: 93.02%\n",
            "Accuracy: 93.02%\n",
            "Accuracy: 93.02%\n",
            "Accuracy: 92.86%\n",
            "Accuracy: 93.34%\n",
            "Accuracy: 93.1%\n",
            "Accuracy: 92.55%\n",
            "Accuracy: 92.86%\n",
            "Accuracy: 93.5%\n",
            "Accuracy: 93.18%\n",
            "Accuracy: 92.78%\n",
            "Accuracy: 92.78%\n",
            "Accuracy: 93.18%\n",
            "Accuracy: 92.78%\n",
            "Accuracy: 93.5%\n",
            "Accuracy: 93.26%\n",
            "Accuracy: 92.94%\n",
            "Accuracy: 93.97%\n",
            "Accuracy: 93.34%\n",
            "Accuracy: 93.1%\n",
            "Accuracy: 93.18%\n",
            "Accuracy: 93.34%\n",
            "Accuracy: 93.26%\n",
            "Accuracy: 93.26%\n",
            "Accuracy: 93.18%\n",
            "Accuracy: 93.1%\n",
            "Accuracy: 92.86%\n",
            "Accuracy: 93.18%\n",
            "Accuracy: 93.02%\n",
            "Accuracy: 93.66%\n",
            "Accuracy: 93.26%\n",
            "Accuracy: 92.78%\n",
            "Accuracy: 93.02%\n",
            "Accuracy: 93.58%\n",
            "Accuracy: 93.34%\n",
            "Accuracy: 92.94%\n",
            "Accuracy: 93.1%\n",
            "Accuracy: 92.7%\n",
            "Accuracy: 93.02%\n",
            "Accuracy: 93.18%\n",
            "Accuracy: 93.42%\n",
            "Accuracy: 93.26%\n",
            "Accuracy: 93.1%\n",
            "Accuracy: 93.02%\n",
            "Accuracy: 93.26%\n",
            "Accuracy: 93.34%\n",
            "Accuracy: 92.94%\n",
            "Accuracy: 93.02%\n",
            "Accuracy: 93.02%\n",
            "Accuracy: 93.34%\n",
            "Accuracy: 93.18%\n",
            "Accuracy: 92.94%\n",
            "Accuracy: 93.34%\n",
            "Accuracy: 93.58%\n",
            "Accuracy: 92.86%\n",
            "Accuracy: 93.18%\n",
            "Accuracy: 92.78%\n",
            "Accuracy: 93.42%\n",
            "Accuracy: 93.66%\n",
            "Accuracy: 93.34%\n",
            "  \n",
            "The highest value of accuracy is at max-iter of value  58\n",
            "ACCURACY IS 94.0 %"
          ],
          "name": "stdout"
        }
      ]
    },
    {
      "cell_type": "markdown",
      "metadata": {
        "id": "zvT07jhSbQXZ",
        "colab_type": "text"
      },
      "source": [
        "Confusion matrix for predictions"
      ]
    },
    {
      "cell_type": "code",
      "metadata": {
        "id": "TAXjCI0gRM-i",
        "colab_type": "code",
        "outputId": "8853b25a-17cb-4e83-80af-4bc66d3ccdca",
        "colab": {
          "base_uri": "https://localhost:8080/",
          "height": 50
        }
      },
      "source": [
        "m=confusion_matrix(y_test,y_pred, labels=['FAKE','REAL'])\n",
        "m"
      ],
      "execution_count": 0,
      "outputs": [
        {
          "output_type": "execute_result",
          "data": {
            "text/plain": [
              "array([[587,  40],\n",
              "       [ 44, 590]])"
            ]
          },
          "metadata": {
            "tags": []
          },
          "execution_count": 128
        }
      ]
    },
    {
      "cell_type": "markdown",
      "metadata": {
        "id": "Wn2QyOzbbboY",
        "colab_type": "text"
      },
      "source": [
        "Confusion matrix visualization using matlab and seaborn libraries"
      ]
    },
    {
      "cell_type": "code",
      "metadata": {
        "id": "BxeMHvmURVLs",
        "colab_type": "code",
        "outputId": "86264eeb-dd4f-493d-86ee-0b9f9b16fde6",
        "colab": {
          "base_uri": "https://localhost:8080/",
          "height": 329
        }
      },
      "source": [
        "import seaborn as sns\n",
        "import matplotlib.pyplot as plt\n",
        "\n",
        "ax=plt.subplot()\n",
        "\n",
        "sns.heatmap(m ,annot=True,ax = ax,fmt='g',cmap='Blues') \n",
        " #cmap = blue will set the color \n",
        " #fmt is used to pass value as string\n",
        "plt.figure(figsize=(15,15))  #size of figure\n",
        "\n",
        "ax.set_xlabel('Predicted labels')\n",
        "ax.set_ylabel('True labels')\n",
        "ax.xaxis.set_ticklabels(['FAKE', 'REAL'])\n",
        "ax.yaxis.set_ticklabels(['FAKE', 'REAL'])\n",
        "\n",
        "ax.set_title('Confusion Matrix of the classifier') #title \n",
        "print(\" \")"
      ],
      "execution_count": 0,
      "outputs": [
        {
          "output_type": "stream",
          "text": [
            " \n"
          ],
          "name": "stdout"
        },
        {
          "output_type": "display_data",
          "data": {
            "image/png": "[encoded data removed]",
            "text/plain": [
              "<Figure size 432x288 with 2 Axes>"
            ]
          },
          "metadata": {
            "tags": [],
            "needs_background": "light"
          }
        },
        {
          "output_type": "display_data",
          "data": {
            "text/plain": [
              "<Figure size 1080x1080 with 0 Axes>"
            ]
          },
          "metadata": {
            "tags": []
          }
        }
      ]
    }
  ]
}